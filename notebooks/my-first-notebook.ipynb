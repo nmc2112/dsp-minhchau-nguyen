{
 "cells": [
  {
   "cell_type": "code",
   "execution_count": 3,
   "id": "8002437f-f2a7-4ee8-88aa-df54fb00fea0",
   "metadata": {},
   "outputs": [],
   "source": [
    "import numpy as np"
   ]
  },
  {
   "cell_type": "code",
   "execution_count": 4,
   "id": "8710ee11-661d-46e3-9f44-ddc037afe72b",
   "metadata": {},
   "outputs": [],
   "source": [
    "my_array = np.random.randint(1, 101, size=(10, 3))"
   ]
  },
  {
   "cell_type": "code",
   "execution_count": 5,
   "id": "aa73327d-0265-413d-a75b-0081d0af6f93",
   "metadata": {},
   "outputs": [
    {
     "name": "stdout",
     "output_type": "stream",
     "text": [
      "[[43 26 75]\n",
      " [93 34 47]\n",
      " [56 99 15]\n",
      " [47 78  9]\n",
      " [27 11 54]\n",
      " [84 83  1]\n",
      " [80 74 65]\n",
      " [24 36 96]\n",
      " [48  3 15]\n",
      " [56 72 63]]\n"
     ]
    }
   ],
   "source": [
    "print(my_array)"
   ]
  }
 ],
 "metadata": {
  "kernelspec": {
   "display_name": "Python 3 (ipykernel)",
   "language": "python",
   "name": "python3"
  },
  "language_info": {
   "codemirror_mode": {
    "name": "ipython",
    "version": 3
   },
   "file_extension": ".py",
   "mimetype": "text/x-python",
   "name": "python",
   "nbconvert_exporter": "python",
   "pygments_lexer": "ipython3",
   "version": "3.9.21"
  }
 },
 "nbformat": 4,
 "nbformat_minor": 5
}
